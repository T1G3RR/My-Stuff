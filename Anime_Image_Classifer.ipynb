{
  "nbformat": 4,
  "nbformat_minor": 0,
  "metadata": {
    "colab": {
      "provenance": [],
      "include_colab_link": true
    },
    "kernelspec": {
      "name": "python3",
      "display_name": "Python 3"
    },
    "language_info": {
      "name": "python"
    }
  },
  "cells": [
    {
      "cell_type": "markdown",
      "metadata": {
        "id": "view-in-github",
        "colab_type": "text"
      },
      "source": [
        "<a href=\"https://colab.research.google.com/github/T1G3RR/My-Stuff/blob/master/Anime_Image_Classifer.ipynb\" target=\"_parent\"><img src=\"https://colab.research.google.com/assets/colab-badge.svg\" alt=\"Open In Colab\"/></a>"
      ]
    },
    {
      "cell_type": "code",
      "source": [
        "#here is the pseudo code for this plan\n",
        "# we need to now have a for loop go through and get the specific number for each character then find the characters name\n",
        "#add that name to the url and then parse through that html page\n",
        "#that html page will contain a table of pictures of the character andh all we need to do is run another for loop and store that url"
      ],
      "metadata": {
        "id": "46fwtVdMIBqF"
      },
      "execution_count": null,
      "outputs": []
    },
    {
      "cell_type": "markdown",
      "source": [
        "# Webscraping\n"
      ],
      "metadata": {
        "id": "TKsRXtR-N0vL"
      }
    },
    {
      "cell_type": "markdown",
      "source": [
        "## Create CSV file"
      ],
      "metadata": {
        "id": "UHp1uetIN9g3"
      }
    },
    {
      "cell_type": "markdown",
      "source": [
        "### Subsubheading"
      ],
      "metadata": {
        "id": "-NKvwaRuOIPp"
      }
    },
    {
      "cell_type": "code",
      "source": [
        "#create csv file\n",
        "import pandas as pd\n",
        "df = pd.DataFrame(columns=[\"Image URLs\", \"Name\"])\n",
        "df.to_csv(\"image_urls.csv\", index=False)\n",
        "print(df)"
      ],
      "metadata": {
        "id": "ctJ16rc5XESs",
        "colab": {
          "base_uri": "https://localhost:8080/"
        },
        "outputId": "8c079153-9e75-4c31-b53c-4285bada1f40"
      },
      "execution_count": 6,
      "outputs": [
        {
          "output_type": "stream",
          "name": "stdout",
          "text": [
            "Empty DataFrame\n",
            "Columns: [Image URLs, Name]\n",
            "Index: []\n"
          ]
        }
      ]
    },
    {
      "cell_type": "code",
      "source": [
        "#get url and imports\n",
        "from bs4 import BeautifulSoup\n",
        "import requests\n",
        "import pandas as pd\n",
        "\n",
        "\n",
        "\n",
        "url = 'https://myanimelist.net/character/'\n",
        "\n",
        "#get page links\n",
        "characterNum = [45627, 40, 71, 62]\n",
        "characterPage = []\n",
        "for x in characterNum:\n",
        "  characterPage.append(url + str(x) + '/')\n",
        "\n",
        "#getting pic page url\n",
        "\n",
        "imgPage = []\n",
        "names_list = []\n",
        "for y in characterPage:\n",
        "  result = requests.get(y)\n",
        "  doc = BeautifulSoup(result.text, \"html.parser\")\n",
        "\n",
        "  names = doc.find_all(\"title\")[0]\n",
        "\n",
        "  for x in names:\n",
        "    index = x.index('(')\n",
        "    x = x[1:index]\n",
        "    temp = x.split()\n",
        "    names_list.append(x)\n",
        "    links = y + temp[0] + '/pics'\n",
        "    links.replace(\" \", \"\")\n",
        "    imgPage.append(links)\n",
        "\n",
        "#searching pages for image url\n",
        "\n",
        "for index, value in enumerate(imgPage):\n",
        "\n",
        "\n",
        "  imgPageParser = requests.get(value)\n",
        "  script = BeautifulSoup(imgPageParser.text, \"html.parser\")\n",
        "\n",
        "  pp = script.find_all(\"tr\")\n",
        "\n",
        "\n",
        "\n",
        "  #getting image urls and saving them to csv file\n",
        "\n",
        "  image_urls = []\n",
        "\n",
        "  for tr in pp:\n",
        "      img_tag = tr.find(\"img\")\n",
        "      if img_tag:\n",
        "          image_url = img_tag[\"data-src\"]\n",
        "          if (img_tag[\"class\"][0] == \"portrait-225x350\"):\n",
        "            image_urls.append(image_url)\n",
        "\n",
        "\n",
        "  # Create a Pandas DataFrame with the image URLs\n",
        "  df = pd.DataFrame({\"Image URLs\": image_urls, \"Name\": names_list[index]})\n",
        "\n",
        "  # Save the DataFrame to a CSV file\n",
        "  df.to_csv(\"image_urls.csv\", index=False, mode= \"a\", header = False)\n",
        "\n",
        "  print(\"Image URLs saved in image_urls.csv file.\")"
      ],
      "metadata": {
        "colab": {
          "base_uri": "https://localhost:8080/"
        },
        "id": "s377Q0oMS0SA",
        "outputId": "0a4e25c1-bfad-4512-d335-97118610d6bf"
      },
      "execution_count": 7,
      "outputs": [
        {
          "output_type": "stream",
          "name": "stdout",
          "text": [
            "Image URLs saved in image_urls.csv file.\n",
            "Image URLs saved in image_urls.csv file.\n",
            "Image URLs saved in image_urls.csv file.\n",
            "Image URLs saved in image_urls.csv file.\n"
          ]
        }
      ]
    },
    {
      "cell_type": "code",
      "source": [
        "data = pd.read_csv(\"/content/image_urls.csv\")\n",
        "data.head(60)"
      ],
      "metadata": {
        "id": "mNkPbj4_Vzh4",
        "colab": {
          "base_uri": "https://localhost:8080/",
          "height": 1000
        },
        "outputId": "7e0cc4b0-863a-4d47-a5f4-d8b8724d665e"
      },
      "execution_count": null,
      "outputs": [
        {
          "output_type": "execute_result",
          "data": {
            "text/plain": [
              "                                           Image URLs              Name\n",
              "0   https://cdn.myanimelist.net/images/characters/...             Levi \n",
              "1   https://cdn.myanimelist.net/images/characters/...             Levi \n",
              "2   https://cdn.myanimelist.net/images/characters/...             Levi \n",
              "3   https://cdn.myanimelist.net/images/characters/...             Levi \n",
              "4   https://cdn.myanimelist.net/images/characters/...             Levi \n",
              "5   https://cdn.myanimelist.net/images/characters/...             Levi \n",
              "6   https://cdn.myanimelist.net/images/characters/...             Levi \n",
              "7   https://cdn.myanimelist.net/images/characters/...             Levi \n",
              "8   https://cdn.myanimelist.net/images/characters/...             Levi \n",
              "9   https://cdn.myanimelist.net/images/characters/...  Luffy Monkey D. \n",
              "10  https://cdn.myanimelist.net/images/characters/...  Luffy Monkey D. \n",
              "11  https://cdn.myanimelist.net/images/characters/...  Luffy Monkey D. \n",
              "12  https://cdn.myanimelist.net/images/characters/...  Luffy Monkey D. \n",
              "13  https://cdn.myanimelist.net/images/characters/...  Luffy Monkey D. \n",
              "14  https://cdn.myanimelist.net/images/characters/...  Luffy Monkey D. \n",
              "15  https://cdn.myanimelist.net/images/characters/...  Luffy Monkey D. \n",
              "16  https://cdn.myanimelist.net/images/characters/...  Luffy Monkey D. \n",
              "17  https://cdn.myanimelist.net/images/characters/...  Luffy Monkey D. \n",
              "18  https://cdn.myanimelist.net/images/characters/...  Luffy Monkey D. \n",
              "19  https://cdn.myanimelist.net/images/characters/...        L Lawliet \n",
              "20  https://cdn.myanimelist.net/images/characters/...        L Lawliet \n",
              "21  https://cdn.myanimelist.net/images/characters/...        L Lawliet \n",
              "22  https://cdn.myanimelist.net/images/characters/...        L Lawliet \n",
              "23  https://cdn.myanimelist.net/images/characters/...        L Lawliet \n",
              "24  https://cdn.myanimelist.net/images/characters/...        L Lawliet \n",
              "25  https://cdn.myanimelist.net/images/characters/...     Zoro Roronoa \n",
              "26  https://cdn.myanimelist.net/images/characters/...     Zoro Roronoa \n",
              "27  https://cdn.myanimelist.net/images/characters/...     Zoro Roronoa \n",
              "28  https://cdn.myanimelist.net/images/characters/...     Zoro Roronoa \n",
              "29  https://cdn.myanimelist.net/images/characters/...     Zoro Roronoa \n",
              "30  https://cdn.myanimelist.net/images/characters/...     Zoro Roronoa \n",
              "31  https://cdn.myanimelist.net/images/characters/...     Zoro Roronoa \n",
              "32  https://cdn.myanimelist.net/images/characters/...     Zoro Roronoa \n",
              "33  https://cdn.myanimelist.net/images/characters/...     Zoro Roronoa "
            ],
            "text/html": [
              "\n",
              "  <div id=\"df-c88c9226-64b3-4305-b0a1-bc06b2931be6\" class=\"colab-df-container\">\n",
              "    <div>\n",
              "<style scoped>\n",
              "    .dataframe tbody tr th:only-of-type {\n",
              "        vertical-align: middle;\n",
              "    }\n",
              "\n",
              "    .dataframe tbody tr th {\n",
              "        vertical-align: top;\n",
              "    }\n",
              "\n",
              "    .dataframe thead th {\n",
              "        text-align: right;\n",
              "    }\n",
              "</style>\n",
              "<table border=\"1\" class=\"dataframe\">\n",
              "  <thead>\n",
              "    <tr style=\"text-align: right;\">\n",
              "      <th></th>\n",
              "      <th>Image URLs</th>\n",
              "      <th>Name</th>\n",
              "    </tr>\n",
              "  </thead>\n",
              "  <tbody>\n",
              "    <tr>\n",
              "      <th>0</th>\n",
              "      <td>https://cdn.myanimelist.net/images/characters/...</td>\n",
              "      <td>Levi</td>\n",
              "    </tr>\n",
              "    <tr>\n",
              "      <th>1</th>\n",
              "      <td>https://cdn.myanimelist.net/images/characters/...</td>\n",
              "      <td>Levi</td>\n",
              "    </tr>\n",
              "    <tr>\n",
              "      <th>2</th>\n",
              "      <td>https://cdn.myanimelist.net/images/characters/...</td>\n",
              "      <td>Levi</td>\n",
              "    </tr>\n",
              "    <tr>\n",
              "      <th>3</th>\n",
              "      <td>https://cdn.myanimelist.net/images/characters/...</td>\n",
              "      <td>Levi</td>\n",
              "    </tr>\n",
              "    <tr>\n",
              "      <th>4</th>\n",
              "      <td>https://cdn.myanimelist.net/images/characters/...</td>\n",
              "      <td>Levi</td>\n",
              "    </tr>\n",
              "    <tr>\n",
              "      <th>5</th>\n",
              "      <td>https://cdn.myanimelist.net/images/characters/...</td>\n",
              "      <td>Levi</td>\n",
              "    </tr>\n",
              "    <tr>\n",
              "      <th>6</th>\n",
              "      <td>https://cdn.myanimelist.net/images/characters/...</td>\n",
              "      <td>Levi</td>\n",
              "    </tr>\n",
              "    <tr>\n",
              "      <th>7</th>\n",
              "      <td>https://cdn.myanimelist.net/images/characters/...</td>\n",
              "      <td>Levi</td>\n",
              "    </tr>\n",
              "    <tr>\n",
              "      <th>8</th>\n",
              "      <td>https://cdn.myanimelist.net/images/characters/...</td>\n",
              "      <td>Levi</td>\n",
              "    </tr>\n",
              "    <tr>\n",
              "      <th>9</th>\n",
              "      <td>https://cdn.myanimelist.net/images/characters/...</td>\n",
              "      <td>Luffy Monkey D.</td>\n",
              "    </tr>\n",
              "    <tr>\n",
              "      <th>10</th>\n",
              "      <td>https://cdn.myanimelist.net/images/characters/...</td>\n",
              "      <td>Luffy Monkey D.</td>\n",
              "    </tr>\n",
              "    <tr>\n",
              "      <th>11</th>\n",
              "      <td>https://cdn.myanimelist.net/images/characters/...</td>\n",
              "      <td>Luffy Monkey D.</td>\n",
              "    </tr>\n",
              "    <tr>\n",
              "      <th>12</th>\n",
              "      <td>https://cdn.myanimelist.net/images/characters/...</td>\n",
              "      <td>Luffy Monkey D.</td>\n",
              "    </tr>\n",
              "    <tr>\n",
              "      <th>13</th>\n",
              "      <td>https://cdn.myanimelist.net/images/characters/...</td>\n",
              "      <td>Luffy Monkey D.</td>\n",
              "    </tr>\n",
              "    <tr>\n",
              "      <th>14</th>\n",
              "      <td>https://cdn.myanimelist.net/images/characters/...</td>\n",
              "      <td>Luffy Monkey D.</td>\n",
              "    </tr>\n",
              "    <tr>\n",
              "      <th>15</th>\n",
              "      <td>https://cdn.myanimelist.net/images/characters/...</td>\n",
              "      <td>Luffy Monkey D.</td>\n",
              "    </tr>\n",
              "    <tr>\n",
              "      <th>16</th>\n",
              "      <td>https://cdn.myanimelist.net/images/characters/...</td>\n",
              "      <td>Luffy Monkey D.</td>\n",
              "    </tr>\n",
              "    <tr>\n",
              "      <th>17</th>\n",
              "      <td>https://cdn.myanimelist.net/images/characters/...</td>\n",
              "      <td>Luffy Monkey D.</td>\n",
              "    </tr>\n",
              "    <tr>\n",
              "      <th>18</th>\n",
              "      <td>https://cdn.myanimelist.net/images/characters/...</td>\n",
              "      <td>Luffy Monkey D.</td>\n",
              "    </tr>\n",
              "    <tr>\n",
              "      <th>19</th>\n",
              "      <td>https://cdn.myanimelist.net/images/characters/...</td>\n",
              "      <td>L Lawliet</td>\n",
              "    </tr>\n",
              "    <tr>\n",
              "      <th>20</th>\n",
              "      <td>https://cdn.myanimelist.net/images/characters/...</td>\n",
              "      <td>L Lawliet</td>\n",
              "    </tr>\n",
              "    <tr>\n",
              "      <th>21</th>\n",
              "      <td>https://cdn.myanimelist.net/images/characters/...</td>\n",
              "      <td>L Lawliet</td>\n",
              "    </tr>\n",
              "    <tr>\n",
              "      <th>22</th>\n",
              "      <td>https://cdn.myanimelist.net/images/characters/...</td>\n",
              "      <td>L Lawliet</td>\n",
              "    </tr>\n",
              "    <tr>\n",
              "      <th>23</th>\n",
              "      <td>https://cdn.myanimelist.net/images/characters/...</td>\n",
              "      <td>L Lawliet</td>\n",
              "    </tr>\n",
              "    <tr>\n",
              "      <th>24</th>\n",
              "      <td>https://cdn.myanimelist.net/images/characters/...</td>\n",
              "      <td>L Lawliet</td>\n",
              "    </tr>\n",
              "    <tr>\n",
              "      <th>25</th>\n",
              "      <td>https://cdn.myanimelist.net/images/characters/...</td>\n",
              "      <td>Zoro Roronoa</td>\n",
              "    </tr>\n",
              "    <tr>\n",
              "      <th>26</th>\n",
              "      <td>https://cdn.myanimelist.net/images/characters/...</td>\n",
              "      <td>Zoro Roronoa</td>\n",
              "    </tr>\n",
              "    <tr>\n",
              "      <th>27</th>\n",
              "      <td>https://cdn.myanimelist.net/images/characters/...</td>\n",
              "      <td>Zoro Roronoa</td>\n",
              "    </tr>\n",
              "    <tr>\n",
              "      <th>28</th>\n",
              "      <td>https://cdn.myanimelist.net/images/characters/...</td>\n",
              "      <td>Zoro Roronoa</td>\n",
              "    </tr>\n",
              "    <tr>\n",
              "      <th>29</th>\n",
              "      <td>https://cdn.myanimelist.net/images/characters/...</td>\n",
              "      <td>Zoro Roronoa</td>\n",
              "    </tr>\n",
              "    <tr>\n",
              "      <th>30</th>\n",
              "      <td>https://cdn.myanimelist.net/images/characters/...</td>\n",
              "      <td>Zoro Roronoa</td>\n",
              "    </tr>\n",
              "    <tr>\n",
              "      <th>31</th>\n",
              "      <td>https://cdn.myanimelist.net/images/characters/...</td>\n",
              "      <td>Zoro Roronoa</td>\n",
              "    </tr>\n",
              "    <tr>\n",
              "      <th>32</th>\n",
              "      <td>https://cdn.myanimelist.net/images/characters/...</td>\n",
              "      <td>Zoro Roronoa</td>\n",
              "    </tr>\n",
              "    <tr>\n",
              "      <th>33</th>\n",
              "      <td>https://cdn.myanimelist.net/images/characters/...</td>\n",
              "      <td>Zoro Roronoa</td>\n",
              "    </tr>\n",
              "  </tbody>\n",
              "</table>\n",
              "</div>\n",
              "    <div class=\"colab-df-buttons\">\n",
              "\n",
              "  <div class=\"colab-df-container\">\n",
              "    <button class=\"colab-df-convert\" onclick=\"convertToInteractive('df-c88c9226-64b3-4305-b0a1-bc06b2931be6')\"\n",
              "            title=\"Convert this dataframe to an interactive table.\"\n",
              "            style=\"display:none;\">\n",
              "\n",
              "  <svg xmlns=\"http://www.w3.org/2000/svg\" height=\"24px\" viewBox=\"0 -960 960 960\">\n",
              "    <path d=\"M120-120v-720h720v720H120Zm60-500h600v-160H180v160Zm220 220h160v-160H400v160Zm0 220h160v-160H400v160ZM180-400h160v-160H180v160Zm440 0h160v-160H620v160ZM180-180h160v-160H180v160Zm440 0h160v-160H620v160Z\"/>\n",
              "  </svg>\n",
              "    </button>\n",
              "\n",
              "  <style>\n",
              "    .colab-df-container {\n",
              "      display:flex;\n",
              "      gap: 12px;\n",
              "    }\n",
              "\n",
              "    .colab-df-convert {\n",
              "      background-color: #E8F0FE;\n",
              "      border: none;\n",
              "      border-radius: 50%;\n",
              "      cursor: pointer;\n",
              "      display: none;\n",
              "      fill: #1967D2;\n",
              "      height: 32px;\n",
              "      padding: 0 0 0 0;\n",
              "      width: 32px;\n",
              "    }\n",
              "\n",
              "    .colab-df-convert:hover {\n",
              "      background-color: #E2EBFA;\n",
              "      box-shadow: 0px 1px 2px rgba(60, 64, 67, 0.3), 0px 1px 3px 1px rgba(60, 64, 67, 0.15);\n",
              "      fill: #174EA6;\n",
              "    }\n",
              "\n",
              "    .colab-df-buttons div {\n",
              "      margin-bottom: 4px;\n",
              "    }\n",
              "\n",
              "    [theme=dark] .colab-df-convert {\n",
              "      background-color: #3B4455;\n",
              "      fill: #D2E3FC;\n",
              "    }\n",
              "\n",
              "    [theme=dark] .colab-df-convert:hover {\n",
              "      background-color: #434B5C;\n",
              "      box-shadow: 0px 1px 3px 1px rgba(0, 0, 0, 0.15);\n",
              "      filter: drop-shadow(0px 1px 2px rgba(0, 0, 0, 0.3));\n",
              "      fill: #FFFFFF;\n",
              "    }\n",
              "  </style>\n",
              "\n",
              "    <script>\n",
              "      const buttonEl =\n",
              "        document.querySelector('#df-c88c9226-64b3-4305-b0a1-bc06b2931be6 button.colab-df-convert');\n",
              "      buttonEl.style.display =\n",
              "        google.colab.kernel.accessAllowed ? 'block' : 'none';\n",
              "\n",
              "      async function convertToInteractive(key) {\n",
              "        const element = document.querySelector('#df-c88c9226-64b3-4305-b0a1-bc06b2931be6');\n",
              "        const dataTable =\n",
              "          await google.colab.kernel.invokeFunction('convertToInteractive',\n",
              "                                                    [key], {});\n",
              "        if (!dataTable) return;\n",
              "\n",
              "        const docLinkHtml = 'Like what you see? Visit the ' +\n",
              "          '<a target=\"_blank\" href=https://colab.research.google.com/notebooks/data_table.ipynb>data table notebook</a>'\n",
              "          + ' to learn more about interactive tables.';\n",
              "        element.innerHTML = '';\n",
              "        dataTable['output_type'] = 'display_data';\n",
              "        await google.colab.output.renderOutput(dataTable, element);\n",
              "        const docLink = document.createElement('div');\n",
              "        docLink.innerHTML = docLinkHtml;\n",
              "        element.appendChild(docLink);\n",
              "      }\n",
              "    </script>\n",
              "  </div>\n",
              "\n",
              "\n",
              "<div id=\"df-172bc135-ad6d-481d-9718-1b0751ff5e5f\">\n",
              "  <button class=\"colab-df-quickchart\" onclick=\"quickchart('df-172bc135-ad6d-481d-9718-1b0751ff5e5f')\"\n",
              "            title=\"Suggest charts\"\n",
              "            style=\"display:none;\">\n",
              "\n",
              "<svg xmlns=\"http://www.w3.org/2000/svg\" height=\"24px\"viewBox=\"0 0 24 24\"\n",
              "     width=\"24px\">\n",
              "    <g>\n",
              "        <path d=\"M19 3H5c-1.1 0-2 .9-2 2v14c0 1.1.9 2 2 2h14c1.1 0 2-.9 2-2V5c0-1.1-.9-2-2-2zM9 17H7v-7h2v7zm4 0h-2V7h2v10zm4 0h-2v-4h2v4z\"/>\n",
              "    </g>\n",
              "</svg>\n",
              "  </button>\n",
              "\n",
              "<style>\n",
              "  .colab-df-quickchart {\n",
              "      --bg-color: #E8F0FE;\n",
              "      --fill-color: #1967D2;\n",
              "      --hover-bg-color: #E2EBFA;\n",
              "      --hover-fill-color: #174EA6;\n",
              "      --disabled-fill-color: #AAA;\n",
              "      --disabled-bg-color: #DDD;\n",
              "  }\n",
              "\n",
              "  [theme=dark] .colab-df-quickchart {\n",
              "      --bg-color: #3B4455;\n",
              "      --fill-color: #D2E3FC;\n",
              "      --hover-bg-color: #434B5C;\n",
              "      --hover-fill-color: #FFFFFF;\n",
              "      --disabled-bg-color: #3B4455;\n",
              "      --disabled-fill-color: #666;\n",
              "  }\n",
              "\n",
              "  .colab-df-quickchart {\n",
              "    background-color: var(--bg-color);\n",
              "    border: none;\n",
              "    border-radius: 50%;\n",
              "    cursor: pointer;\n",
              "    display: none;\n",
              "    fill: var(--fill-color);\n",
              "    height: 32px;\n",
              "    padding: 0;\n",
              "    width: 32px;\n",
              "  }\n",
              "\n",
              "  .colab-df-quickchart:hover {\n",
              "    background-color: var(--hover-bg-color);\n",
              "    box-shadow: 0 1px 2px rgba(60, 64, 67, 0.3), 0 1px 3px 1px rgba(60, 64, 67, 0.15);\n",
              "    fill: var(--button-hover-fill-color);\n",
              "  }\n",
              "\n",
              "  .colab-df-quickchart-complete:disabled,\n",
              "  .colab-df-quickchart-complete:disabled:hover {\n",
              "    background-color: var(--disabled-bg-color);\n",
              "    fill: var(--disabled-fill-color);\n",
              "    box-shadow: none;\n",
              "  }\n",
              "\n",
              "  .colab-df-spinner {\n",
              "    border: 2px solid var(--fill-color);\n",
              "    border-color: transparent;\n",
              "    border-bottom-color: var(--fill-color);\n",
              "    animation:\n",
              "      spin 1s steps(1) infinite;\n",
              "  }\n",
              "\n",
              "  @keyframes spin {\n",
              "    0% {\n",
              "      border-color: transparent;\n",
              "      border-bottom-color: var(--fill-color);\n",
              "      border-left-color: var(--fill-color);\n",
              "    }\n",
              "    20% {\n",
              "      border-color: transparent;\n",
              "      border-left-color: var(--fill-color);\n",
              "      border-top-color: var(--fill-color);\n",
              "    }\n",
              "    30% {\n",
              "      border-color: transparent;\n",
              "      border-left-color: var(--fill-color);\n",
              "      border-top-color: var(--fill-color);\n",
              "      border-right-color: var(--fill-color);\n",
              "    }\n",
              "    40% {\n",
              "      border-color: transparent;\n",
              "      border-right-color: var(--fill-color);\n",
              "      border-top-color: var(--fill-color);\n",
              "    }\n",
              "    60% {\n",
              "      border-color: transparent;\n",
              "      border-right-color: var(--fill-color);\n",
              "    }\n",
              "    80% {\n",
              "      border-color: transparent;\n",
              "      border-right-color: var(--fill-color);\n",
              "      border-bottom-color: var(--fill-color);\n",
              "    }\n",
              "    90% {\n",
              "      border-color: transparent;\n",
              "      border-bottom-color: var(--fill-color);\n",
              "    }\n",
              "  }\n",
              "</style>\n",
              "\n",
              "  <script>\n",
              "    async function quickchart(key) {\n",
              "      const quickchartButtonEl =\n",
              "        document.querySelector('#' + key + ' button');\n",
              "      quickchartButtonEl.disabled = true;  // To prevent multiple clicks.\n",
              "      quickchartButtonEl.classList.add('colab-df-spinner');\n",
              "      try {\n",
              "        const charts = await google.colab.kernel.invokeFunction(\n",
              "            'suggestCharts', [key], {});\n",
              "      } catch (error) {\n",
              "        console.error('Error during call to suggestCharts:', error);\n",
              "      }\n",
              "      quickchartButtonEl.classList.remove('colab-df-spinner');\n",
              "      quickchartButtonEl.classList.add('colab-df-quickchart-complete');\n",
              "    }\n",
              "    (() => {\n",
              "      let quickchartButtonEl =\n",
              "        document.querySelector('#df-172bc135-ad6d-481d-9718-1b0751ff5e5f button');\n",
              "      quickchartButtonEl.style.display =\n",
              "        google.colab.kernel.accessAllowed ? 'block' : 'none';\n",
              "    })();\n",
              "  </script>\n",
              "</div>\n",
              "\n",
              "    </div>\n",
              "  </div>\n"
            ],
            "application/vnd.google.colaboratory.intrinsic+json": {
              "type": "dataframe",
              "variable_name": "data",
              "summary": "{\n  \"name\": \"data\",\n  \"rows\": 34,\n  \"fields\": [\n    {\n      \"column\": \"Image URLs\",\n      \"properties\": {\n        \"dtype\": \"string\",\n        \"num_unique_values\": 31,\n        \"samples\": [\n          \"https://cdn.myanimelist.net/images/characters/8/343380.jpg\",\n          \"https://cdn.myanimelist.net/images/characters/6/474149.jpg\",\n          \"https://cdn.myanimelist.net/images/characters/3/100534.jpg\"\n        ],\n        \"semantic_type\": \"\",\n        \"description\": \"\"\n      }\n    },\n    {\n      \"column\": \"Name\",\n      \"properties\": {\n        \"dtype\": \"category\",\n        \"num_unique_values\": 4,\n        \"samples\": [\n          \"Luffy Monkey D. \",\n          \"Zoro Roronoa \",\n          \"Levi \"\n        ],\n        \"semantic_type\": \"\",\n        \"description\": \"\"\n      }\n    }\n  ]\n}"
            }
          },
          "metadata": {},
          "execution_count": 3
        }
      ]
    },
    {
      "cell_type": "code",
      "source": [
        "#download images and put them in personal folders\n",
        "from PIL import Image\n",
        "from io import BytesIO\n",
        "import os\n",
        "import numpy as np\n",
        "\n",
        "# Read the CSV file into a pandas DataFrame\n",
        "df = pd.read_csv(\"/content/image_urls.csv\")\n",
        "\n",
        "# Assuming your image URLs are in a column named 'ImageURL', adjust this according to your dataset\n",
        "imageURL = df['Image URLs'].to_numpy()\n",
        "print(imageURL)\n",
        "\n",
        "characterName = df[\"Name\"].to_numpy()\n",
        "print(characterName)"
      ],
      "metadata": {
        "id": "Rx7aL6RUX53x",
        "colab": {
          "base_uri": "https://localhost:8080/"
        },
        "outputId": "45f79597-690f-4630-9a59-e3d475560309"
      },
      "execution_count": null,
      "outputs": [
        {
          "output_type": "stream",
          "name": "stdout",
          "text": [
            "['https://cdn.myanimelist.net/images/characters/2/241413.jpg'\n",
            " 'https://cdn.myanimelist.net/images/characters/4/205157.jpg'\n",
            " 'https://cdn.myanimelist.net/images/characters/11/234165.jpg'\n",
            " 'https://cdn.myanimelist.net/images/characters/16/273239.jpg'\n",
            " 'https://cdn.myanimelist.net/images/characters/13/273265.jpg'\n",
            " 'https://cdn.myanimelist.net/images/characters/6/307084.jpg'\n",
            " 'https://cdn.myanimelist.net/images/characters/16/339170.jpg'\n",
            " 'https://cdn.myanimelist.net/images/characters/6/343711.jpg'\n",
            " 'https://cdn.myanimelist.net/images/characters/11/419516.jpg'\n",
            " 'https://cdn.myanimelist.net/images/characters/9/310307.jpg'\n",
            " 'https://cdn.myanimelist.net/images/characters/9/55741.jpg'\n",
            " 'https://cdn.myanimelist.net/images/characters/7/71304.jpg'\n",
            " 'https://cdn.myanimelist.net/images/characters/2/257253.jpg'\n",
            " 'https://cdn.myanimelist.net/images/characters/9/310307.jpg'\n",
            " 'https://cdn.myanimelist.net/images/characters/7/350423.jpg'\n",
            " 'https://cdn.myanimelist.net/images/characters/8/434007.jpg'\n",
            " 'https://cdn.myanimelist.net/images/characters/6/474149.jpg'\n",
            " 'https://cdn.myanimelist.net/images/characters/8/490121.jpg'\n",
            " 'https://cdn.myanimelist.net/images/characters/10/490124.jpg'\n",
            " 'https://cdn.myanimelist.net/images/characters/10/249647.jpg'\n",
            " 'https://cdn.myanimelist.net/images/characters/4/26346.jpg'\n",
            " 'https://cdn.myanimelist.net/images/characters/6/59139.jpg'\n",
            " 'https://cdn.myanimelist.net/images/characters/10/249647.jpg'\n",
            " 'https://cdn.myanimelist.net/images/characters/4/273983.jpg'\n",
            " 'https://cdn.myanimelist.net/images/characters/4/474507.jpg'\n",
            " 'https://cdn.myanimelist.net/images/characters/3/100534.jpg'\n",
            " 'https://cdn.myanimelist.net/images/characters/16/94247.jpg'\n",
            " 'https://cdn.myanimelist.net/images/characters/3/100534.jpg'\n",
            " 'https://cdn.myanimelist.net/images/characters/8/241543.jpg'\n",
            " 'https://cdn.myanimelist.net/images/characters/10/267179.jpg'\n",
            " 'https://cdn.myanimelist.net/images/characters/8/343380.jpg'\n",
            " 'https://cdn.myanimelist.net/images/characters/15/365924.jpg'\n",
            " 'https://cdn.myanimelist.net/images/characters/12/445367.jpg'\n",
            " 'https://cdn.myanimelist.net/images/characters/16/549178.jpg']\n",
            "['Levi ' 'Levi ' 'Levi ' 'Levi ' 'Levi ' 'Levi ' 'Levi ' 'Levi ' 'Levi '\n",
            " 'Luffy Monkey D. ' 'Luffy Monkey D. ' 'Luffy Monkey D. '\n",
            " 'Luffy Monkey D. ' 'Luffy Monkey D. ' 'Luffy Monkey D. '\n",
            " 'Luffy Monkey D. ' 'Luffy Monkey D. ' 'Luffy Monkey D. '\n",
            " 'Luffy Monkey D. ' 'L Lawliet ' 'L Lawliet ' 'L Lawliet ' 'L Lawliet '\n",
            " 'L Lawliet ' 'L Lawliet ' 'Zoro Roronoa ' 'Zoro Roronoa ' 'Zoro Roronoa '\n",
            " 'Zoro Roronoa ' 'Zoro Roronoa ' 'Zoro Roronoa ' 'Zoro Roronoa '\n",
            " 'Zoro Roronoa ' 'Zoro Roronoa ']\n"
          ]
        }
      ]
    },
    {
      "cell_type": "code",
      "source": [
        "from google.colab import drive\n",
        "drive.mount('/content/drive')"
      ],
      "metadata": {
        "colab": {
          "base_uri": "https://localhost:8080/"
        },
        "id": "hiH6_1aw3pUY",
        "outputId": "0cf12a24-1f1f-4b37-ac0e-8dcb0306a436"
      },
      "execution_count": 2,
      "outputs": [
        {
          "output_type": "stream",
          "name": "stdout",
          "text": [
            "Mounted at /content/drive\n"
          ]
        }
      ]
    },
    {
      "cell_type": "code",
      "source": [
        "#1. navigate to every url and download image\n",
        "#2. check if the name is still the same/ pick a name from characterName and check if the list's name is the same\n",
        "#if not the same, create new folder and start saving the following images in the next folder\n",
        "#transfer learning techniques\n",
        "\n",
        "#audio check: convert to text"
      ],
      "metadata": {
        "id": "9RTCoAEJccjO"
      },
      "execution_count": null,
      "outputs": []
    },
    {
      "cell_type": "code",
      "source": [
        "def folderCreate(currentName):\n",
        "  if not os.path.exists(currentName):\n",
        "    os.mkdir(currentName)\n",
        "    print(\"Folder %s created!\" % currentName)\n",
        "  else:\n",
        "    print(\"Folder %s already exists\" % currentName)"
      ],
      "metadata": {
        "id": "R1ZWheelYUBh"
      },
      "execution_count": 8,
      "outputs": []
    },
    {
      "cell_type": "code",
      "source": [
        "import os\n",
        "import requests\n",
        "\n",
        "def download_image(url, folder_path):\n",
        "    # Create the folder if it doesn't exist\n",
        "    os.makedirs(folder_path, exist_ok=True)\n",
        "\n",
        "    # Get the image content from the URL\n",
        "    response = requests.get(url)\n",
        "\n",
        "    # Extract the image file name from the URL\n",
        "    file_name = os.path.join(folder_path, os.path.basename(url))\n",
        "\n",
        "    # Save the image content to a file\n",
        "    with open(file_name, \"wb\") as file:\n",
        "        file.write(response.content)\n",
        "\n",
        "# Example usage\n",
        "\n",
        "\n",
        "characterAnalyze = characterName[0]\n",
        "path = '/content/drive/MyDrive/AI Folder/Anime Character Recog/Images'\n",
        "for index, link in enumerate(imageURL):\n",
        "  if(characterAnalyze == characterName[index]):\n",
        "    image_url = link  # Replace with the actual image URL\n",
        "    save_folder = os.path.join(path, characterAnalyze)  # Replace with the desired folder path\n",
        "    download_image(image_url, save_folder)\n",
        "  else:\n",
        "    characterAnalyze = characterName[index]\n",
        "    image_url = link  # Replace with the actual image URL\n",
        "    save_folder = os.path.join(path, characterAnalyze)  # Replace with the desired folder path\n",
        "    download_image(image_url, save_folder)"
      ],
      "metadata": {
        "id": "CwZebH3D5hs7"
      },
      "execution_count": null,
      "outputs": []
    },
    {
      "cell_type": "code",
      "source": [
        "import os\n",
        "import shutil\n",
        "import random\n",
        "\n",
        "# Set up paths\n",
        "source_folder = '/content/drive/MyDrive/AI Folder/Anime Character Recog/Images'\n",
        "train_folder = '/content/drive/MyDrive/AI Folder/Anime Character Recog/train'\n",
        "test_folder = '/content/drive/MyDrive/AI Folder/Anime Character Recog/test'\n",
        "split_ratio = 0.8  # 80-20 split\n",
        "\n",
        "# Recursively get a list of image files from all subfolders\n",
        "def get_image_files(folder):\n",
        "    image_files = []\n",
        "    for root, dirs, files in os.walk(folder):\n",
        "        image_files.extend([os.path.join(root, f) for f in files if f.endswith('.jpg') or f.endswith('.png')])\n",
        "    return image_files\n",
        "\n",
        "# Create corresponding subfolders in the destination\n",
        "def create_destination_subfolders(source_path, destination_path):\n",
        "    relative_path = os.path.relpath(source_path, source_folder)\n",
        "    destination_subfolder = os.path.join(destination_path, relative_path)\n",
        "    if not os.path.exists(destination_subfolder):\n",
        "        os.makedirs(destination_subfolder)\n",
        "\n",
        "# Move images while maintaining folder structure\n",
        "def move_images(source_files, destination_folder):\n",
        "    for source_file in source_files:\n",
        "        create_destination_subfolders(source_file, destination_folder)\n",
        "        destination_file = os.path.join(destination_folder, os.path.relpath(source_file, source_folder))\n",
        "        shutil.copy(source_file, destination_file)\n",
        "\n",
        "# Get all image files from source subfolders\n",
        "image_files = get_image_files(source_folder)\n",
        "\n",
        "# Randomly shuffle if needed\n",
        "random.shuffle(image_files)\n",
        "\n",
        "# Split images\n",
        "train_count = int(split_ratio * len(image_files))\n",
        "train_files = image_files[:train_count]\n",
        "test_files = image_files[train_count:]\n",
        "\n",
        "# Move images to train and test folders while maintaining structure\n",
        "move_images(train_files, train_folder)\n",
        "move_images(test_files, test_folder)"
      ],
      "metadata": {
        "id": "FGFT1NVYTdDx"
      },
      "execution_count": null,
      "outputs": []
    },
    {
      "cell_type": "code",
      "source": [
        "# Data Augmentation"
      ],
      "metadata": {
        "id": "GOWJXN3wNgTq"
      },
      "execution_count": null,
      "outputs": []
    },
    {
      "cell_type": "markdown",
      "source": [
        "# Data Augmentation"
      ],
      "metadata": {
        "id": "royaYaeSOZUx"
      }
    },
    {
      "cell_type": "code",
      "source": [
        "import os\n",
        "import numpy as np\n",
        "from tensorflow.keras.preprocessing.image import ImageDataGenerator, array_to_img, img_to_array, load_img\n",
        "\n",
        "# Define paths\n",
        "original_data_dir = '/content/drive/MyDrive/AI Folder/Anime Character Recog/Images'  # Directory containing your original images\n",
        "augmented_data_dir = '/content/drive/MyDrive/AI Folder/Anime Character Recog/Aug-Images'  # Directory to save augmented images\n",
        "os.makedirs(augmented_data_dir, exist_ok=True)\n",
        "\n",
        "# Create an ImageDataGenerator with augmentation settings\n",
        "datagen = ImageDataGenerator(\n",
        "    rotation_range=40,\n",
        "    width_shift_range=0.2,\n",
        "    height_shift_range=0.2,\n",
        "    shear_range=0.2,\n",
        "    zoom_range=0.2,\n",
        "    horizontal_flip=True,\n",
        "    fill_mode='nearest'\n",
        ")\n",
        "\n",
        "# Loop through the original images and generate augmented images\n",
        "for root, _, files in os.walk(original_data_dir):\n",
        "    for filename in files:\n",
        "        if filename.endswith(('.jpg', '.jpeg', '.png')):  # Filter for image files\n",
        "            original_image_path = os.path.join(root, filename)\n",
        "            relative_path = os.path.relpath(original_image_path, original_data_dir)\n",
        "            output_folder = os.path.join(augmented_data_dir, os.path.dirname(relative_path))\n",
        "            os.makedirs(output_folder, exist_ok=True)\n",
        "\n",
        "            img = load_img(original_image_path)\n",
        "            x = img_to_array(img)\n",
        "            x = x.reshape((1,) + x.shape)\n",
        "\n",
        "            # Generate augmented images and save them\n",
        "            i = 0\n",
        "            for batch in datagen.flow(x, batch_size=1):\n",
        "                augmented_img = array_to_img(batch[0])\n",
        "                augmented_image_path = os.path.join(output_folder, f'augmented_{i}_{filename}')\n",
        "                augmented_img.save(augmented_image_path)\n",
        "                i += 1\n",
        "                if i >= 10:  # Adjust the number of augmented images per original image\n",
        "                    break\n",
        "\n",
        "print(\"Augmentation complete. Augmented images saved in\", augmented_data_dir)"
      ],
      "metadata": {
        "id": "_tk80HRQQnQU",
        "colab": {
          "base_uri": "https://localhost:8080/"
        },
        "outputId": "d9f29074-0021-4c86-c8ac-0d7d8d7d90ef"
      },
      "execution_count": null,
      "outputs": [
        {
          "output_type": "stream",
          "name": "stdout",
          "text": [
            "Augmentation complete. Augmented images saved in /content/drive/MyDrive/AI Folder/Anime Character Recog/Aug-Images\n"
          ]
        }
      ]
    },
    {
      "cell_type": "code",
      "source": [
        "# Please replace the brackets below with the drive location of your folders which included subfolders for images\n",
        "# Sample path: /content/drive/My Drive/ImageClassification\n",
        "Path = '/content/drive/MyDrive/AI Folder/Anime Character Recog/Aug-Images'"
      ],
      "metadata": {
        "id": "PbxSjASCeBfY"
      },
      "execution_count": 10,
      "outputs": []
    },
    {
      "cell_type": "code",
      "source": [
        "def create_model(base_model, num_classes):\n",
        "    import tensorflow as tf\n",
        "    # Grab the last layer and add a few extra layers to it\n",
        "    x=base_model.output\n",
        "    x=GlobalAveragePooling2D()(x)\n",
        "    # Dense layer 1\n",
        "    x=tf.keras.layers.Dense(100,activation='relu', kernel_initializer=tf.keras.initializers.VarianceScaling(), use_bias=True)(x)\n",
        "\n",
        "    # Final layer with softmax activation\n",
        "    preds=tf.keras.layers.Dense(num_classes,activation='softmax', kernel_initializer=tf.keras.initializers.VarianceScaling(), use_bias=False)(x)\n",
        "\n",
        "    # Create the final model\n",
        "    model=Model(inputs=base_model.input,outputs=preds)\n",
        "    return model"
      ],
      "metadata": {
        "id": "LEvIhorheLYc"
      },
      "execution_count": 11,
      "outputs": []
    },
    {
      "cell_type": "code",
      "source": [
        "def get_optimizer(optimizer_name, learning_rate):\n",
        "    # Import keras optimizers\n",
        "    from tensorflow.keras.optimizers import Adam, Adadelta, Adagrad, Adamax, Ftrl, Nadam, RMSprop, SGD\n",
        "    print('Selected Optimizer', optimizer_name)\n",
        "    switcher = {\n",
        "        'Adadelta': Adadelta(learning_rate=learning_rate),\n",
        "        'Adagrad': Adagrad(learning_rate=learning_rate),\n",
        "        'Adam': Adam(learning_rate=learning_rate),\n",
        "        'Adamax': Adamax(learning_rate=learning_rate),\n",
        "        'FTRL': Ftrl(learning_rate=learning_rate),\n",
        "        'NAdam': Nadam(learning_rate=learning_rate),\n",
        "        'RMSprop': RMSprop(learning_rate=learning_rate),\n",
        "        'Gradient Descent': SGD(learning_rate=learning_rate)\n",
        "    }\n",
        "    # If optimizer_name is empty, Adam will be return as default optimizer\n",
        "    return switcher.get(optimizer_name, Adam(learning_rate=learning_rate))\n"
      ],
      "metadata": {
        "id": "6eYd_HosecXr"
      },
      "execution_count": 12,
      "outputs": []
    },
    {
      "cell_type": "code",
      "source": [
        "pip install tensorflow"
      ],
      "metadata": {
        "colab": {
          "base_uri": "https://localhost:8080/"
        },
        "id": "JwsM0k7ej-cN",
        "outputId": "56ab2190-06db-4d40-d3ed-9333b8d2fa15"
      },
      "execution_count": null,
      "outputs": [
        {
          "output_type": "stream",
          "name": "stdout",
          "text": [
            "Requirement already satisfied: tensorflow in /usr/local/lib/python3.10/dist-packages (2.17.0)\n",
            "Requirement already satisfied: absl-py>=1.0.0 in /usr/local/lib/python3.10/dist-packages (from tensorflow) (1.4.0)\n",
            "Requirement already satisfied: astunparse>=1.6.0 in /usr/local/lib/python3.10/dist-packages (from tensorflow) (1.6.3)\n",
            "Requirement already satisfied: flatbuffers>=24.3.25 in /usr/local/lib/python3.10/dist-packages (from tensorflow) (24.3.25)\n",
            "Requirement already satisfied: gast!=0.5.0,!=0.5.1,!=0.5.2,>=0.2.1 in /usr/local/lib/python3.10/dist-packages (from tensorflow) (0.6.0)\n",
            "Requirement already satisfied: google-pasta>=0.1.1 in /usr/local/lib/python3.10/dist-packages (from tensorflow) (0.2.0)\n",
            "Requirement already satisfied: h5py>=3.10.0 in /usr/local/lib/python3.10/dist-packages (from tensorflow) (3.11.0)\n",
            "Requirement already satisfied: libclang>=13.0.0 in /usr/local/lib/python3.10/dist-packages (from tensorflow) (18.1.1)\n",
            "Requirement already satisfied: ml-dtypes<0.5.0,>=0.3.1 in /usr/local/lib/python3.10/dist-packages (from tensorflow) (0.4.0)\n",
            "Requirement already satisfied: opt-einsum>=2.3.2 in /usr/local/lib/python3.10/dist-packages (from tensorflow) (3.3.0)\n",
            "Requirement already satisfied: packaging in /usr/local/lib/python3.10/dist-packages (from tensorflow) (24.1)\n",
            "Requirement already satisfied: protobuf!=4.21.0,!=4.21.1,!=4.21.2,!=4.21.3,!=4.21.4,!=4.21.5,<5.0.0dev,>=3.20.3 in /usr/local/lib/python3.10/dist-packages (from tensorflow) (3.20.3)\n",
            "Requirement already satisfied: requests<3,>=2.21.0 in /usr/local/lib/python3.10/dist-packages (from tensorflow) (2.32.3)\n",
            "Requirement already satisfied: setuptools in /usr/local/lib/python3.10/dist-packages (from tensorflow) (71.0.4)\n",
            "Requirement already satisfied: six>=1.12.0 in /usr/local/lib/python3.10/dist-packages (from tensorflow) (1.16.0)\n",
            "Requirement already satisfied: termcolor>=1.1.0 in /usr/local/lib/python3.10/dist-packages (from tensorflow) (2.4.0)\n",
            "Requirement already satisfied: typing-extensions>=3.6.6 in /usr/local/lib/python3.10/dist-packages (from tensorflow) (4.12.2)\n",
            "Requirement already satisfied: wrapt>=1.11.0 in /usr/local/lib/python3.10/dist-packages (from tensorflow) (1.16.0)\n",
            "Requirement already satisfied: grpcio<2.0,>=1.24.3 in /usr/local/lib/python3.10/dist-packages (from tensorflow) (1.64.1)\n",
            "Requirement already satisfied: tensorboard<2.18,>=2.17 in /usr/local/lib/python3.10/dist-packages (from tensorflow) (2.17.0)\n",
            "Requirement already satisfied: keras>=3.2.0 in /usr/local/lib/python3.10/dist-packages (from tensorflow) (3.4.1)\n",
            "Requirement already satisfied: tensorflow-io-gcs-filesystem>=0.23.1 in /usr/local/lib/python3.10/dist-packages (from tensorflow) (0.37.1)\n",
            "Requirement already satisfied: numpy<2.0.0,>=1.23.5 in /usr/local/lib/python3.10/dist-packages (from tensorflow) (1.26.4)\n",
            "Requirement already satisfied: wheel<1.0,>=0.23.0 in /usr/local/lib/python3.10/dist-packages (from astunparse>=1.6.0->tensorflow) (0.44.0)\n",
            "Requirement already satisfied: rich in /usr/local/lib/python3.10/dist-packages (from keras>=3.2.0->tensorflow) (13.8.0)\n",
            "Requirement already satisfied: namex in /usr/local/lib/python3.10/dist-packages (from keras>=3.2.0->tensorflow) (0.0.8)\n",
            "Requirement already satisfied: optree in /usr/local/lib/python3.10/dist-packages (from keras>=3.2.0->tensorflow) (0.12.1)\n",
            "Requirement already satisfied: charset-normalizer<4,>=2 in /usr/local/lib/python3.10/dist-packages (from requests<3,>=2.21.0->tensorflow) (3.3.2)\n",
            "Requirement already satisfied: idna<4,>=2.5 in /usr/local/lib/python3.10/dist-packages (from requests<3,>=2.21.0->tensorflow) (3.8)\n",
            "Requirement already satisfied: urllib3<3,>=1.21.1 in /usr/local/lib/python3.10/dist-packages (from requests<3,>=2.21.0->tensorflow) (2.0.7)\n",
            "Requirement already satisfied: certifi>=2017.4.17 in /usr/local/lib/python3.10/dist-packages (from requests<3,>=2.21.0->tensorflow) (2024.7.4)\n",
            "Requirement already satisfied: markdown>=2.6.8 in /usr/local/lib/python3.10/dist-packages (from tensorboard<2.18,>=2.17->tensorflow) (3.7)\n",
            "Requirement already satisfied: tensorboard-data-server<0.8.0,>=0.7.0 in /usr/local/lib/python3.10/dist-packages (from tensorboard<2.18,>=2.17->tensorflow) (0.7.2)\n",
            "Requirement already satisfied: werkzeug>=1.0.1 in /usr/local/lib/python3.10/dist-packages (from tensorboard<2.18,>=2.17->tensorflow) (3.0.4)\n",
            "Requirement already satisfied: MarkupSafe>=2.1.1 in /usr/local/lib/python3.10/dist-packages (from werkzeug>=1.0.1->tensorboard<2.18,>=2.17->tensorflow) (2.1.5)\n",
            "Requirement already satisfied: markdown-it-py>=2.2.0 in /usr/local/lib/python3.10/dist-packages (from rich->keras>=3.2.0->tensorflow) (3.0.0)\n",
            "Requirement already satisfied: pygments<3.0.0,>=2.13.0 in /usr/local/lib/python3.10/dist-packages (from rich->keras>=3.2.0->tensorflow) (2.16.1)\n",
            "Requirement already satisfied: mdurl~=0.1 in /usr/local/lib/python3.10/dist-packages (from markdown-it-py>=2.2.0->rich->keras>=3.2.0->tensorflow) (0.1.2)\n"
          ]
        }
      ]
    },
    {
      "cell_type": "code",
      "source": [
        "\n",
        "# Import packages needed to create a image classification model\n",
        "import matplotlib.pyplot as plt\n",
        "import numpy as np\n",
        "import os\n",
        "import tensorflow as tf\n",
        "\n",
        "from tensorflow.keras.applications.resnet50 import preprocess_input, ResNet50\n",
        "from tensorflow.keras.preprocessing.image import ImageDataGenerator\n",
        "from keras.layers import Dense,GlobalAveragePooling2D\n",
        "from keras.models import Model\n",
        "from tensorflow.keras import regularizers\n",
        "\n",
        "from tensorflow.keras.preprocessing import image_dataset_from_directory\n",
        "from keras.callbacks import EarlyStopping\n",
        "from tensorflow import keras\n",
        "\n",
        "# Initialize hyper params\n",
        "epochs = 6 #<-- increase for higher accuracy\n",
        "base_learning_rate = 0.001 #decrease for different results; use excel sheet to note down results from each change to learning rate and epochs\n",
        "optimizer = 'Adam'\n",
        "BATCH_SIZE = 23\n",
        "\n",
        "IMG_SIZE = (224, 224)\n",
        "\n",
        "# Create the data generation pipeline for training and validation\n",
        "# train_datagen = ImageDataGenerator(preprocessing_function=preprocess_input)\n",
        "# validation_datagen = ImageDataGenerator(preprocessing_function=preprocess_input)\n",
        "train_datagen = ImageDataGenerator(preprocessing_function=preprocess_input, validation_split=0.2) # set validation split\n",
        "train_generator = train_datagen.flow_from_directory(Path,\n",
        "                                                target_size=IMG_SIZE,\n",
        "                                                color_mode='rgb',\n",
        "                                                batch_size=BATCH_SIZE,\n",
        "                                                class_mode='categorical',\n",
        "                                                shuffle=True,\n",
        "                                                subset='training'\n",
        "                                                )\n",
        "validation_generator = train_datagen.flow_from_directory(Path,\n",
        "                                                target_size=IMG_SIZE,\n",
        "                                                color_mode='rgb',\n",
        "                                                batch_size=BATCH_SIZE,\n",
        "                                                class_mode='categorical',\n",
        "                                                shuffle=True,\n",
        "                                                subset='validation'\n",
        "                                                )\n",
        "\n",
        "print(validation_generator.class_indices.keys())\n",
        "# Download the model, valid alpha values [0.25,0.35,0.5,0.75,1]\n",
        "base_model = tf.keras.applications.mobilenet_v2.MobileNetV2(input_shape=(224, 224, 3), include_top=False, weights='imagenet', alpha=0.35)\n",
        "for layer in base_model.layers:\n",
        "    layer.trainable=False\n",
        "\n",
        "# Specify the number of classes\n",
        "num_classes = 4\n",
        "\n",
        "# Create the base model\n",
        "model = create_model(base_model,num_classes)\n",
        "\n",
        "print(len(base_model.layers))\n",
        "\n",
        "model.compile(optimizer = get_optimizer(optimizer_name=optimizer,learning_rate=base_learning_rate),loss='CategoricalCrossentropy',metrics=['accuracy'])\n",
        "# Adam optimizer\n",
        "# loss function will be categorical cross entropy\n",
        "# evaluation metric will be accuracy\n",
        "\n",
        "early_stopping_monitor = EarlyStopping(\n",
        "    monitor='val_loss',\n",
        "    min_delta=0,\n",
        "    patience=30,\n",
        "    verbose=0,\n",
        "    mode='auto',\n",
        "    baseline=None,\n",
        "    restore_best_weights=True\n",
        ")\n",
        "# step_size_train = 5\n",
        "# step_size_train = train_generator.n//train_generator.batch_size\n",
        "history_fine = model.fit(train_generator,\n",
        "                        epochs=epochs,\n",
        "                        validation_data = validation_generator,\n",
        "                        verbose=1)"
      ],
      "metadata": {
        "colab": {
          "base_uri": "https://localhost:8080/"
        },
        "id": "OkYI71wred9h",
        "outputId": "4814014f-a297-49ed-9f78-88bb0da77089"
      },
      "execution_count": 16,
      "outputs": [
        {
          "output_type": "stream",
          "name": "stdout",
          "text": [
            "Found 288 images belonging to 4 classes.\n",
            "Found 72 images belonging to 4 classes.\n",
            "dict_keys(['L Lawliet ', 'Levi ', 'Luffy Monkey D. ', 'Zoro Roronoa '])\n",
            "154\n",
            "Selected Optimizer Adam\n",
            "Epoch 1/6\n",
            "\u001b[1m13/13\u001b[0m \u001b[32m━━━━━━━━━━━━━━━━━━━━\u001b[0m\u001b[37m\u001b[0m \u001b[1m17s\u001b[0m 737ms/step - accuracy: 0.4617 - loss: 1.2047 - val_accuracy: 0.6667 - val_loss: 0.8290\n",
            "Epoch 2/6\n",
            "\u001b[1m13/13\u001b[0m \u001b[32m━━━━━━━━━━━━━━━━━━━━\u001b[0m\u001b[37m\u001b[0m \u001b[1m7s\u001b[0m 428ms/step - accuracy: 0.8039 - loss: 0.6051 - val_accuracy: 0.9444 - val_loss: 0.4422\n",
            "Epoch 3/6\n",
            "\u001b[1m13/13\u001b[0m \u001b[32m━━━━━━━━━━━━━━━━━━━━\u001b[0m\u001b[37m\u001b[0m \u001b[1m10s\u001b[0m 437ms/step - accuracy: 0.9583 - loss: 0.2966 - val_accuracy: 0.9583 - val_loss: 0.2841\n",
            "Epoch 4/6\n",
            "\u001b[1m13/13\u001b[0m \u001b[32m━━━━━━━━━━━━━━━━━━━━\u001b[0m\u001b[37m\u001b[0m \u001b[1m12s\u001b[0m 520ms/step - accuracy: 0.9759 - loss: 0.1862 - val_accuracy: 0.9722 - val_loss: 0.2372\n",
            "Epoch 5/6\n",
            "\u001b[1m13/13\u001b[0m \u001b[32m━━━━━━━━━━━━━━━━━━━━\u001b[0m\u001b[37m\u001b[0m \u001b[1m6s\u001b[0m 419ms/step - accuracy: 0.9823 - loss: 0.1216 - val_accuracy: 0.9722 - val_loss: 0.1724\n",
            "Epoch 6/6\n",
            "\u001b[1m13/13\u001b[0m \u001b[32m━━━━━━━━━━━━━━━━━━━━\u001b[0m\u001b[37m\u001b[0m \u001b[1m8s\u001b[0m 552ms/step - accuracy: 1.0000 - loss: 0.0624 - val_accuracy: 0.9722 - val_loss: 0.1431\n"
          ]
        }
      ]
    },
    {
      "cell_type": "code",
      "source": [
        "def visualization():\n",
        "    import pandas as pd\n",
        "    df = pd.DataFrame(history_fine.history)\n",
        "    #loss plots\n",
        "    plt.figure(figsize=(8,8))\n",
        "    plt.plot(df['loss'], color='red', label = \"Training_loss\")\n",
        "    plt.plot(df['val_loss'], color='blue')\n",
        "    plt.legend(['Training Loss','Validation loss'],loc = 'best' )\n",
        "    plt.title('Line plot of Training and Validation loss')\n",
        "    plt.ylim(0,1)\n",
        "    plt.show()\n",
        "\n",
        "    #accuracy plots\n",
        "    plt.figure(figsize=(8,8))\n",
        "    plt.plot(df['accuracy'], color='red')\n",
        "    plt.plot(df['val_accuracy'], color='blue')\n",
        "    plt.legend(['Training acc','Validation acc'],loc = 'best' )\n",
        "    plt.title('Line plot of Training and Validation Accuracies')\n",
        "    plt.ylim(0,1)\n",
        "    plt.show()\n",
        "\n",
        "visualization()"
      ],
      "metadata": {
        "colab": {
          "base_uri": "https://localhost:8080/",
          "height": 1000
        },
        "id": "IkXRbTgHegFi",
        "outputId": "d1354c84-abf1-4ad8-be93-b592feb83b43",
        "collapsed": true
      },
      "execution_count": null,
      "outputs": [
        {
          "output_type": "display_data",
          "data": {
            "text/plain": [
              "<Figure size 800x800 with 1 Axes>"
            ],
            "image/png": "[encoded data removed]"
          },
          "metadata": {}
        },
        {
          "output_type": "display_data",
          "data": {
            "text/plain": [
              "<Figure size 800x800 with 1 Axes>"
            ],
            "image/png": "[encoded data removed]"
          },
          "metadata": {}
        }
      ]
    },
    {
      "cell_type": "code",
      "source": [
        "\n",
        "# Import numpy for calculating best model accuracy\n",
        "import numpy as np\n",
        "# Populating matrics -> accuracy & loss\n",
        "acc = history_fine.history['accuracy']\n",
        "val_acc = history_fine.history['val_accuracy']\n",
        "\n",
        "loss = history_fine.history['loss']\n",
        "val_loss = history_fine.history['val_loss']\n",
        "\n",
        "print('Training Accuracy: ', acc)\n",
        "print('Validation Accuracy: ', val_acc)\n",
        "print('Training Loss: ', loss)\n",
        "print('Validation Loss: ', val_loss)\n",
        "best_model_accuracy = history_fine.history['val_accuracy'][np.argmin(history_fine.history['val_loss'])]\n",
        "print('best model accuracy: ', best_model_accuracy)\n"
      ],
      "metadata": {
        "colab": {
          "base_uri": "https://localhost:8080/"
        },
        "id": "CX2H03Jhehu6",
        "outputId": "a496653b-cc25-4d36-b4bf-063121a4670f"
      },
      "execution_count": null,
      "outputs": [
        {
          "output_type": "stream",
          "name": "stdout",
          "text": [
            "Training Accuracy:  [0.4479166567325592, 0.8576388955116272, 0.9444444179534912, 0.9513888955116272]\n",
            "Validation Accuracy:  [0.7361111044883728, 0.8888888955116272, 0.9166666865348816, 0.9305555820465088]\n",
            "Training Loss:  [1.1794602870941162, 0.5856754779815674, 0.32545551657676697, 0.2222696989774704]\n",
            "Validation Loss:  [0.8133498430252075, 0.4822884202003479, 0.33345600962638855, 0.255707323551178]\n",
            "best model accuracy:  0.9305555820465088\n"
          ]
        }
      ]
    },
    {
      "cell_type": "code",
      "source": [
        "def seperate_labels(generator):\n",
        "    x_validation = []\n",
        "    y_validation = []\n",
        "    num_seen = 0\n",
        "\n",
        "    for x, labels in generator:\n",
        "        x_validation.append(x)\n",
        "        y_validation.append([argmax(label) for label in labels])\n",
        "        num_seen += len(x)\n",
        "        if num_seen == generator.n: break\n",
        "\n",
        "    x_validation = np.concatenate(x_validation)\n",
        "    y_validation = np.concatenate(y_validation)\n",
        "    return x_validation, y_validation\n"
      ],
      "metadata": {
        "id": "IyKtst03engt"
      },
      "execution_count": null,
      "outputs": []
    },
    {
      "cell_type": "code",
      "source": [
        "\n",
        "# Calculate and display the confusion matrix\n",
        "import matplotlib.pyplot as plt\n",
        "from numpy.core.fromnumeric import argmax\n",
        "from sklearn.metrics import ConfusionMatrixDisplay\n",
        "\n",
        "x_validation, y_validation = seperate_labels(validation_generator)\n",
        "y_pred = model.predict(x_validation, batch_size=BATCH_SIZE)\n",
        "predictions = np.apply_along_axis(argmax, 1, y_pred)\n",
        "display_labels = validation_generator.class_indices.keys()\n",
        "\n",
        "# ConfusionMatrixDisplay.from_predictions(y_validation, predictions, display_labels=display_labels, cmap=\"binary\")\n",
        "# plt.show()\n"
      ],
      "metadata": {
        "colab": {
          "base_uri": "https://localhost:8080/"
        },
        "id": "1wrIkWUQepIb",
        "outputId": "ac6f4083-1968-4fe0-8bbe-cfbcc51b5ba3"
      },
      "execution_count": null,
      "outputs": [
        {
          "output_type": "stream",
          "name": "stdout",
          "text": [
            "\u001b[1m4/4\u001b[0m \u001b[32m━━━━━━━━━━━━━━━━━━━━\u001b[0m\u001b[37m\u001b[0m \u001b[1m1s\u001b[0m 226ms/step\n"
          ]
        }
      ]
    },
    {
      "cell_type": "code",
      "source": [
        "import seaborn as sns\n",
        "from sklearn.metrics import confusion_matrix, classification_report\n",
        "plt.figure(figsize = (10,10))\n",
        "sns.heatmap(confusion_matrix(y_validation, predictions), annot = True, fmt = 'g', cmap = \"Blues\",xticklabels=display_labels, yticklabels=display_labels)\n",
        "plt.title(\"Confusion Matrix\")\n",
        "plt.show()"
      ],
      "metadata": {
        "colab": {
          "base_uri": "https://localhost:8080/",
          "height": 853
        },
        "id": "Yo0F6qBoeq2F",
        "outputId": "15a32f2a-8e89-42a7-d165-4ee15a185ab2"
      },
      "execution_count": null,
      "outputs": [
        {
          "output_type": "display_data",
          "data": {
            "text/plain": [
              "<Figure size 1000x1000 with 2 Axes>"
            ],
            "image/png": "[encoded data removed]"
          },
          "metadata": {}
        }
      ]
    },
    {
      "cell_type": "code",
      "source": [
        "print(classification_report(y_validation, predictions))"
      ],
      "metadata": {
        "colab": {
          "base_uri": "https://localhost:8080/"
        },
        "id": "G8n8Goiaes2z",
        "outputId": "05be996f-13a5-4d06-f37e-31131ad89c5c"
      },
      "execution_count": null,
      "outputs": [
        {
          "output_type": "stream",
          "name": "stdout",
          "text": [
            "              precision    recall  f1-score   support\n",
            "\n",
            "           0       1.00      0.70      0.82        10\n",
            "           1       0.93      0.96      0.94        26\n",
            "           2       0.94      0.94      0.94        18\n",
            "           3       0.90      1.00      0.95        18\n",
            "\n",
            "    accuracy                           0.93        72\n",
            "   macro avg       0.94      0.90      0.91        72\n",
            "weighted avg       0.93      0.93      0.93        72\n",
            "\n"
          ]
        }
      ]
    },
    {
      "cell_type": "code",
      "source": [
        "import os\n",
        "import numpy as np\n",
        "from tensorflow.keras.preprocessing import image\n",
        "from tensorflow.keras.applications.imagenet_utils import preprocess_input\n",
        "\n",
        "\n",
        "# Get image path from user input\n",
        "img_path = input(\"Please enter the path to the image: \")\n",
        "\n",
        "# Check if the file exists\n",
        "if os.path.exists(img_path):\n",
        "    # Load and preprocess the image\n",
        "    img = image.load_img(img_path, target_size=IMG_SIZE)\n",
        "    img_array = image.img_to_array(img)\n",
        "    img_batch = np.expand_dims(img_array, axis=0)  # Adds a batch dimension\n",
        "    img_preprocessed = preprocess_input(img_batch)\n",
        "\n",
        "    # Predict using the model\n",
        "    prediction = model.predict(img_preprocessed)\n",
        "\n",
        "    # Output the prediction\n",
        "    classes = ['LLawliet', 'Levi', 'Luffy', 'Zoro']  # Replace with actual class names\n",
        "    predicted_class = classes[np.argmax(prediction)]\n",
        "    print(f'Predicted Class: {predicted_class}')\n",
        "else:\n",
        "    print(f\"File not found at {img_path}. Please check the path and try again.\")\n"
      ],
      "metadata": {
        "colab": {
          "base_uri": "https://localhost:8080/"
        },
        "id": "fRJs1pE2euaL",
        "outputId": "87764d19-034b-4a07-c37b-c5470e34df8d"
      },
      "execution_count": 30,
      "outputs": [
        {
          "output_type": "stream",
          "name": "stdout",
          "text": [
            "Please enter the path to the image: /content/drive/MyDrive/AI Folder/Anime Character Recog/test/L Lawliet /249647.jpg/249647.jp\n",
            "File not found at /content/drive/MyDrive/AI Folder/Anime Character Recog/test/L Lawliet /249647.jpg/249647.jp. Please check the path and try again.\n"
          ]
        }
      ]
    }
  ]
}