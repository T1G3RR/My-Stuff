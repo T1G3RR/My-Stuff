{
 "cells": [
  {
   "cell_type": "code",
   "execution_count": 7,
   "metadata": {},
   "outputs": [],
   "source": [
    "def presedence(op) -> int:\n",
    "    if (op == \"+\") or (op == \"-\"):\n",
    "        return 1\n",
    "    if (op == \"*\") or (op == \"/\"):\n",
    "        return 2\n",
    "    if (op == \"^\"):\n",
    "        return 3"
   ]
  },
  {
   "attachments": {},
   "cell_type": "markdown",
   "metadata": {},
   "source": [
    "We will first start off by creating the function for the shunting yard algorithm with the parameter of the infix notation of the equation that we are send to the function. This infix notation or standard notation will be stored in a list. \n",
    "\n",
    "We then create the 2 stacks/arrays to store the things inside of the infix notation. We will have an output which will store the final equation in shunting yard form and the operatorStack to keep the operators in while the rest of the conditions are met."
   ]
  },
  {
   "cell_type": "code",
   "execution_count": 16,
   "metadata": {},
   "outputs": [],
   "source": [
    "def shuntingYard(infixNotation) -> list:\n",
    "    output = []\n",
    "    operatorStack = []\n",
    "    operators = [\"+\", \"-\", \"*\", \"/\", \"^\"]\n",
    "    \n",
    "    for item in infixNotation:\n",
    "        if item.isnumeric():\n",
    "            output.append(item)\n",
    "\n",
    "        elif (item ==  \"(\"):\n",
    "            operatorStack.append(item)\n",
    "            \n",
    "        elif item in operators:\n",
    "            while (operatorStack[-1] != \"(\") and (presedence(operatorStack[-1]) >= presedence(item)):\n",
    "                output.append(operatorStack.pop())\n",
    "            operatorStack.append(item)\n",
    "            \n",
    "        elif item == \")\":\n",
    "            while operatorStack[-1] != \"(\":\n",
    "                output.append(operatorStack.pop())\n",
    "            operatorStack.pop()\n",
    "    return output"
   ]
  },
  {
   "attachments": {},
   "cell_type": "markdown",
   "metadata": {},
   "source": [
    "Next, we have the actual checker for the algorithm. This will go through the list in infixNotation.\n",
    "If Number -> put in output\n",
    "If Operator or begin parenthesis -> put in operatorStack\n",
    "If inside of the operators already -> run while loop\n",
    "    While the top of the stack is not the beginParentheses and its presedence is greaterthan or equal to the item -> take it out of the operatorStack and put in into the output\n",
    "Then add the item to the operatorStack\n",
    "\n",
    "If end parentheses -> run while loop\n",
    "    While the top is not the beginnning parentheses -> take the item out of the operatorStack and into the output it goes.\n",
    "Then pop it the stack again.\n",
    "If the top of the stack after popping is an operator move it from the operatorStack or the ouput.\n",
    "\n",
    "After running this for loop and looping completely through, we should have turned the infix notation into shunting yard and it will return the output.\n"
   ]
  },
  {
   "attachments": {},
   "cell_type": "markdown",
   "metadata": {},
   "source": [
    "Finally, we send the infix notation. Lets run this twice. First, I will send the infix notation in the code itself, then we will let the user enter the infix notation. After returning both, we will print them and compare to see how they have changed. "
   ]
  },
  {
   "cell_type": "code",
   "execution_count": 20,
   "metadata": {},
   "outputs": [
    {
     "ename": "AttributeError",
     "evalue": "'int' object has no attribute 'isnumeric'",
     "output_type": "error",
     "traceback": [
      "\u001b[1;31m---------------------------------------------------------------------------\u001b[0m",
      "\u001b[1;31mAttributeError\u001b[0m                            Traceback (most recent call last)",
      "Cell \u001b[1;32mIn[20], line 2\u001b[0m\n\u001b[0;32m      1\u001b[0m myList \u001b[39m=\u001b[39m [\u001b[39m\"\u001b[39m\u001b[39m(\u001b[39m\u001b[39m\"\u001b[39m, \u001b[39m5\u001b[39m, \u001b[39m\"\u001b[39m\u001b[39m*\u001b[39m\u001b[39m\"\u001b[39m, \u001b[39m4\u001b[39m, \u001b[39m\"\u001b[39m\u001b[39m+\u001b[39m\u001b[39m\"\u001b[39m, \u001b[39m3\u001b[39m, \u001b[39m\"\u001b[39m\u001b[39m*\u001b[39m\u001b[39m\"\u001b[39m, \u001b[39m\"\u001b[39m\u001b[39m)\u001b[39m\u001b[39m\"\u001b[39m, \u001b[39m-\u001b[39m\u001b[39m1\u001b[39m]\n\u001b[1;32m----> 2\u001b[0m newList \u001b[39m=\u001b[39m shuntingYard(myList)\n\u001b[0;32m      3\u001b[0m \u001b[39mfor\u001b[39;00m x \u001b[39min\u001b[39;00m myList:\n\u001b[0;32m      4\u001b[0m     \u001b[39mprint\u001b[39m(x)\n",
      "Cell \u001b[1;32mIn[16], line 7\u001b[0m, in \u001b[0;36mshuntingYard\u001b[1;34m(infixNotation)\u001b[0m\n\u001b[0;32m      4\u001b[0m operators \u001b[39m=\u001b[39m [\u001b[39m\"\u001b[39m\u001b[39m+\u001b[39m\u001b[39m\"\u001b[39m, \u001b[39m\"\u001b[39m\u001b[39m-\u001b[39m\u001b[39m\"\u001b[39m, \u001b[39m\"\u001b[39m\u001b[39m*\u001b[39m\u001b[39m\"\u001b[39m, \u001b[39m\"\u001b[39m\u001b[39m/\u001b[39m\u001b[39m\"\u001b[39m, \u001b[39m\"\u001b[39m\u001b[39m^\u001b[39m\u001b[39m\"\u001b[39m]\n\u001b[0;32m      6\u001b[0m \u001b[39mfor\u001b[39;00m item \u001b[39min\u001b[39;00m infixNotation:\n\u001b[1;32m----> 7\u001b[0m     \u001b[39mif\u001b[39;00m item\u001b[39m.\u001b[39;49misnumeric():\n\u001b[0;32m      8\u001b[0m         output\u001b[39m.\u001b[39mappend(item)\n\u001b[0;32m     10\u001b[0m     \u001b[39melif\u001b[39;00m (item \u001b[39m==\u001b[39m  \u001b[39m\"\u001b[39m\u001b[39m(\u001b[39m\u001b[39m\"\u001b[39m):\n",
      "\u001b[1;31mAttributeError\u001b[0m: 'int' object has no attribute 'isnumeric'"
     ]
    }
   ],
   "source": [
    "myList = \"(5*4+3*)-1\"\n",
    "newList = shuntingYard(myList)\n",
    "for x in myList:\n",
    "    print(x)\n",
    "for y in newList:\n",
    "    print(y)"
   ]
  }
 ],
 "metadata": {
  "kernelspec": {
   "display_name": "Python 3",
   "language": "python",
   "name": "python3"
  },
  "language_info": {
   "codemirror_mode": {
    "name": "ipython",
    "version": 3
   },
   "file_extension": ".py",
   "mimetype": "text/x-python",
   "name": "python",
   "nbconvert_exporter": "python",
   "pygments_lexer": "ipython3",
   "version": "3.10.10"
  },
  "orig_nbformat": 4
 },
 "nbformat": 4,
 "nbformat_minor": 2
}
